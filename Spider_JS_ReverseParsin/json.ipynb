{
 "cells": [
  {
   "cell_type": "code",
   "execution_count": 7,
   "metadata": {},
   "outputs": [
    {
     "name": "stdout",
     "output_type": "stream",
     "text": [
      " '(),-.:;[]abdefghijklmnoprstuvwyz áæìðŋɑɒɔəɛɜɡɪʃʊʌʒˈˌː̃εθ；\n"
     ]
    }
   ],
   "source": [
    "import json\n",
    "\n",
    "with open('youdao.json','r',encoding='utf-8') as f:\n",
    "    j = json.loads(f.read())\n",
    "    d = j['data']['itemList']\n",
    "    \n",
    "    words = \"\"\n",
    "    for i in d:\n",
    "        words+=(i['phonetic'])\n",
    "    print(''.join(sorted(set(words))))\n",
    "    "
   ]
  }
 ],
 "metadata": {
  "interpreter": {
   "hash": "d6b1ceb459af226c92f13ef6ea6825814ddcc26d43ddfa7e0af9dfad72bd7f9f"
  },
  "kernelspec": {
   "display_name": "Python 3.9.8 64-bit",
   "language": "python",
   "name": "python3"
  },
  "language_info": {
   "codemirror_mode": {
    "name": "ipython",
    "version": 3
   },
   "file_extension": ".py",
   "mimetype": "text/x-python",
   "name": "python",
   "nbconvert_exporter": "python",
   "pygments_lexer": "ipython3",
   "version": "3.9.8"
  },
  "orig_nbformat": 4
 },
 "nbformat": 4,
 "nbformat_minor": 2
}
